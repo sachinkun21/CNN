{
  "nbformat": 4,
  "nbformat_minor": 0,
  "metadata": {
    "colab": {
      "name": "LeNet Tensorflow.ipynb",
      "provenance": [],
      "authorship_tag": "ABX9TyOVQ7vCLYZCDiXSnSxt2MIs",
      "include_colab_link": true
    },
    "kernelspec": {
      "name": "python3",
      "display_name": "Python 3"
    },
    "accelerator": "GPU"
  },
  "cells": [
    {
      "cell_type": "markdown",
      "metadata": {
        "id": "view-in-github",
        "colab_type": "text"
      },
      "source": [
        "<a href=\"https://colab.research.google.com/github/sachinkun21/CNN/blob/master/LeNet_Tensorflow.ipynb\" target=\"_parent\"><img src=\"https://colab.research.google.com/assets/colab-badge.svg\" alt=\"Open In Colab\"/></a>"
      ]
    },
    {
      "cell_type": "code",
      "metadata": {
        "id": "t1wXugJ3l3I3",
        "colab_type": "code",
        "colab": {}
      },
      "source": [
        "import tensorflow as tf\n",
        "\n",
        "class LeNet(tf.keras.Model):\n",
        "  def __init__(self, act_fun = 'tanh'):\n",
        "    super(LeNet,self).__init__()\n",
        "    self.inp = tf.keras.Input(shape=(32,32,3))\n",
        "    self.conv1 = tf.keras.layers.Conv2D(6,kernel_size = (5,5),activation=act_fun)\n",
        "    self.pool1 = tf.keras.layers.MaxPooling2D(pool_size=(2, 2))\n",
        "    self.conv2 = tf.keras.layers.Conv2D(filters = 16, kernel_size=(5,5),activation=act_fun)\n",
        "    self.pool2 = tf.keras.layers.MaxPooling2D(pool_size=(2, 2))\n",
        "    self.flat   = tf.keras.layers.Flatten()\n",
        "    self.d1    = tf.keras.layers.Dense(120,activation=act_fun)\n",
        "    self.d2    = tf.keras.layers.Dense(84,activation=act_fun) \n",
        "    self.pred  = tf.keras.layers.Dense(10,activation='softmax')\n",
        "\n",
        "  def call(self,inp):\n",
        "    x = self.conv1(inp)\n",
        "    x = self.pool1(x)\n",
        "    x = self.conv2(x)\n",
        "    x = self.pool2(x)\n",
        "    x = self.flat(x)\n",
        "    x = self.d1(x)\n",
        "    x = self.d2(x)\n",
        "    \n",
        "    return self.pred(x)\n",
        "\n",
        "lenet = LeNet(act_fun='relu')"
      ],
      "execution_count": 0,
      "outputs": []
    },
    {
      "cell_type": "code",
      "metadata": {
        "id": "9ll5uhnareji",
        "colab_type": "code",
        "outputId": "ad032209-77b3-4073-c260-f9dbb57d719c",
        "colab": {
          "base_uri": "https://localhost:8080/",
          "height": 102
        }
      },
      "source": [
        "import keras\n",
        "from keras.datasets import cifar10,mnist\n",
        "from keras.layers import Conv2D, MaxPooling2D\n",
        "from keras.layers import Dense, Flatten\n",
        "from keras.models import Sequential\n",
        "\n",
        "# Loading the dataset and perform splitting\n",
        "(x_train, y_train), (x_test, y_test) = cifar10.load_data()\n",
        "print(x_train.shape,y_train.shape)\n",
        "# Peforming reshaping operation\n",
        "x_train = x_train.reshape(x_train.shape[0], 32, 32, 3)\n",
        "x_test = x_test.reshape(x_test.shape[0], 32, 32, 3)\n",
        "\n",
        "# Normalization\n",
        "x_train = x_train / 255\n",
        "x_test = x_test / 255\n",
        "\n",
        "# One Hot Encoding\n",
        "y_train = keras.utils.to_categorical(y_train, 10)\n",
        "y_test = keras.utils.to_categorical(y_test, 10)\n",
        "print(x_train.shape,y_train.shape, x_test.shape,y_test.shape)"
      ],
      "execution_count": 2,
      "outputs": [
        {
          "output_type": "stream",
          "text": [
            "Using TensorFlow backend.\n"
          ],
          "name": "stderr"
        },
        {
          "output_type": "stream",
          "text": [
            "Downloading data from https://www.cs.toronto.edu/~kriz/cifar-10-python.tar.gz\n",
            "170500096/170498071 [==============================] - 6s 0us/step\n",
            "(50000, 32, 32, 3) (50000, 1)\n",
            "(50000, 32, 32, 3) (50000, 10) (10000, 32, 32, 3) (10000, 10)\n"
          ],
          "name": "stdout"
        }
      ]
    },
    {
      "cell_type": "code",
      "metadata": {
        "id": "okadb5KVm_zb",
        "colab_type": "code",
        "colab": {}
      },
      "source": [
        "batch_size = 64\n",
        "steps_per_epoch = len(x_train)//batch_size\n",
        "print(steps_per_epoch)\n",
        "lenet.compile (optimizer= tf.keras.optimizers.Adam(), loss='mse',metrics = ['accuracy'])"
      ],
      "execution_count": 0,
      "outputs": []
    },
    {
      "cell_type": "code",
      "metadata": {
        "id": "AdnMWUMTnBii",
        "colab_type": "code",
        "colab": {}
      },
      "source": [
        "lenet.fit(x_train, y_train, batch_size=batch_size, epochs=100, validation_data=(x_test, y_test))"
      ],
      "execution_count": 0,
      "outputs": []
    },
    {
      "cell_type": "code",
      "metadata": {
        "id": "jL6CHPD8sAOl",
        "colab_type": "code",
        "colab": {}
      },
      "source": [
        ""
      ],
      "execution_count": 0,
      "outputs": []
    }
  ]
}