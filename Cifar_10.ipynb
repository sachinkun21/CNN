{
  "nbformat": 4,
  "nbformat_minor": 0,
  "metadata": {
    "kernelspec": {
      "display_name": "Python NNs venv",
      "language": "python",
      "name": "rnn_venv"
    },
    "language_info": {
      "codemirror_mode": {
        "name": "ipython",
        "version": 3
      },
      "file_extension": ".py",
      "mimetype": "text/x-python",
      "name": "python",
      "nbconvert_exporter": "python",
      "pygments_lexer": "ipython3",
      "version": "3.6.5"
    },
    "colab": {
      "name": "Cifar_10.ipynb",
      "provenance": [],
      "include_colab_link": true
    },
    "accelerator": "GPU"
  },
  "cells": [
    {
      "cell_type": "markdown",
      "metadata": {
        "id": "view-in-github",
        "colab_type": "text"
      },
      "source": [
        "<a href=\"https://colab.research.google.com/github/sachinkun21/CNN/blob/master/Cifar_10.ipynb\" target=\"_parent\"><img src=\"https://colab.research.google.com/assets/colab-badge.svg\" alt=\"Open In Colab\"/></a>"
      ]
    },
    {
      "cell_type": "code",
      "metadata": {
        "id": "07dmQ5wZlKQL",
        "colab_type": "code",
        "colab": {
          "base_uri": "https://localhost:8080/",
          "height": 34
        },
        "outputId": "5892bdfd-f0e7-4ba4-c0ba-96a0e58b766f"
      },
      "source": [
        "# import libraries\n",
        "from __future__ import print_function\n",
        "import keras\n",
        "from keras.datasets import cifar10\n",
        "from keras.preprocessing.image import ImageDataGenerator\n",
        "from keras.models import Sequential\n",
        "from keras.layers import Dense, Dropout, Activation, Flatten\n",
        "from keras.layers import Conv2D, MaxPooling2D, BatchNormalization\n",
        "import numpy as np\n",
        "import os\n",
        "import matplotlib.pyplot as plt\n",
        "%matplotlib inline"
      ],
      "execution_count": 1,
      "outputs": [
        {
          "output_type": "stream",
          "text": [
            "Using TensorFlow backend.\n"
          ],
          "name": "stderr"
        }
      ]
    },
    {
      "cell_type": "code",
      "metadata": {
        "id": "q88yO7GolKQS",
        "colab_type": "code",
        "colab": {}
      },
      "source": [
        "# batch, classes, epochs\n",
        "batch_size = 32\n",
        "num_classes = 10\n",
        "epochs = 200"
      ],
      "execution_count": 0,
      "outputs": []
    },
    {
      "cell_type": "code",
      "metadata": {
        "id": "eYSekpQ7lKQW",
        "colab_type": "code",
        "outputId": "e543c55b-f39c-4d9f-9e90-7535e47d5741",
        "colab": {
          "base_uri": "https://localhost:8080/",
          "height": 68
        }
      },
      "source": [
        "# The data, split between train and test sets:\n",
        "(x_train, y_train), (x_test, y_test) = cifar10.load_data()\n",
        "print('x_train shape:', x_train.shape)\n",
        "print(x_train.shape[0], 'train samples')\n",
        "print(x_test.shape[0], 'test samples')"
      ],
      "execution_count": 3,
      "outputs": [
        {
          "output_type": "stream",
          "text": [
            "x_train shape: (50000, 32, 32, 3)\n",
            "50000 train samples\n",
            "10000 test samples\n"
          ],
          "name": "stdout"
        }
      ]
    },
    {
      "cell_type": "code",
      "metadata": {
        "id": "LKBGoTx7lgep",
        "colab_type": "code",
        "outputId": "a4e0a775-ac3c-47d8-a3dd-17930291409c",
        "colab": {
          "base_uri": "https://localhost:8080/",
          "height": 34
        }
      },
      "source": [
        "x_train[0].shape,y_train[0]"
      ],
      "execution_count": 4,
      "outputs": [
        {
          "output_type": "execute_result",
          "data": {
            "text/plain": [
              "((32, 32, 3), array([6], dtype=uint8))"
            ]
          },
          "metadata": {
            "tags": []
          },
          "execution_count": 4
        }
      ]
    },
    {
      "cell_type": "code",
      "metadata": {
        "id": "hlHtdwdu_e0k",
        "colab_type": "code",
        "colab": {
          "base_uri": "https://localhost:8080/",
          "height": 34
        },
        "outputId": "2ef0303f-762d-4f98-b153-23589365db88"
      },
      "source": [
        "np.where(y_train==5)[0]"
      ],
      "execution_count": 5,
      "outputs": [
        {
          "output_type": "execute_result",
          "data": {
            "text/plain": [
              "array([   27,    40,    51, ..., 49964, 49980, 49988])"
            ]
          },
          "metadata": {
            "tags": []
          },
          "execution_count": 5
        }
      ]
    },
    {
      "cell_type": "code",
      "metadata": {
        "id": "i9eNQUcPlKQb",
        "colab_type": "code",
        "outputId": "d023dee5-53e8-4b19-ebc3-2e3e0258005b",
        "colab": {
          "base_uri": "https://localhost:8080/",
          "height": 213
        }
      },
      "source": [
        "# plotting some random 10 images\n",
        "class_names = ['airplane','automobile','bird','cat','deer',\n",
        "               'dog','frog','horse','ship','truck']\n",
        "\n",
        "fig = plt.figure(figsize=(8,3))\n",
        "for i in range(num_classes):\n",
        "    ax = fig.add_subplot(2, 5, 1 + i, xticks=[], yticks=[])\n",
        "    idx = np.where(y_train[:]==i)[0]\n",
        "    img_num = idx[np.random.randint(idx.shape[0])]\n",
        "    im = x_train[img_num,::]\n",
        "    ax.set_title(class_names[i])\n",
        "    plt.imshow(im)\n",
        "plt.show()"
      ],
      "execution_count": 6,
      "outputs": [
        {
          "output_type": "display_data",
          "data": {
            "image/png": "[encoded data removed]",
            "text/plain": [
              "<Figure size 576x216 with 10 Axes>"
            ]
          },
          "metadata": {
            "tags": []
          }
        }
      ]
    },
    {
      "cell_type": "markdown",
      "metadata": {
        "id": "xGcEuyWZA7sP",
        "colab_type": "text"
      },
      "source": [
        "### Let's convert the labels to categorical array"
      ]
    },
    {
      "cell_type": "code",
      "metadata": {
        "id": "itAwcbfslfbH",
        "colab_type": "code",
        "outputId": "b83a25d2-132a-493a-fe75-28c9ae068a7c",
        "colab": {
          "base_uri": "https://localhost:8080/",
          "height": 51
        }
      },
      "source": [
        "y_train[:2]"
      ],
      "execution_count": 7,
      "outputs": [
        {
          "output_type": "execute_result",
          "data": {
            "text/plain": [
              "array([[6],\n",
              "       [9]], dtype=uint8)"
            ]
          },
          "metadata": {
            "tags": []
          },
          "execution_count": 7
        }
      ]
    },
    {
      "cell_type": "code",
      "metadata": {
        "id": "U86yBtkYlKQg",
        "colab_type": "code",
        "colab": {
          "base_uri": "https://localhost:8080/",
          "height": 51
        },
        "outputId": "982337aa-d33c-40df-bf53-251d3e0ceb19"
      },
      "source": [
        "# Convert class vectors to binary class matrices.\n",
        "y_train = keras.utils.to_categorical(y_train, num_classes)\n",
        "y_test = keras.utils.to_categorical(y_test, num_classes)\n",
        "\n",
        "# let's print top 2 rows\n",
        "y_train[:2]"
      ],
      "execution_count": 8,
      "outputs": [
        {
          "output_type": "execute_result",
          "data": {
            "text/plain": [
              "array([[0., 0., 0., 0., 0., 0., 1., 0., 0., 0.],\n",
              "       [0., 0., 0., 0., 0., 0., 0., 0., 0., 1.]], dtype=float32)"
            ]
          },
          "metadata": {
            "tags": []
          },
          "execution_count": 8
        }
      ]
    },
    {
      "cell_type": "code",
      "metadata": {
        "id": "uadxaxZceFLk",
        "colab_type": "code",
        "outputId": "fffeddeb-20fa-4f71-9231-2e397ab486a0",
        "colab": {
          "base_uri": "https://localhost:8080/",
          "height": 34
        }
      },
      "source": [
        "x_train.shape[1:]"
      ],
      "execution_count": 9,
      "outputs": [
        {
          "output_type": "execute_result",
          "data": {
            "text/plain": [
              "(32, 32, 3)"
            ]
          },
          "metadata": {
            "tags": []
          },
          "execution_count": 9
        }
      ]
    },
    {
      "cell_type": "code",
      "metadata": {
        "id": "LU5VAPqplKQk",
        "colab_type": "code",
        "colab": {}
      },
      "source": [
        "# model architecture\n",
        "model = Sequential()\n",
        "model.add(Conv2D(32, (3, 3), padding='same',\n",
        "                 input_shape=x_train.shape[1:]))\n",
        "model.add(Activation('relu'))\n",
        "model.add(Conv2D(32, (3, 3)))\n",
        "model.add(Activation('relu'))\n",
        "model.add(MaxPooling2D(pool_size=(2, 2)))\n",
        "model.add(Dropout(0.25))\n",
        "\n",
        "model.add(Conv2D(64, (3, 3), padding='same'))\n",
        "model.add(Activation('relu'))\n",
        "model.add(Conv2D(64, (3, 3)))\n",
        "model.add(Activation('relu'))\n",
        "model.add(MaxPooling2D(pool_size=(2, 2)))\n",
        "model.add(Dropout(0.25))\n",
        "\n",
        "model.add(Flatten())\n",
        "model.add(Dense(512))\n",
        "model.add(Activation('relu'))\n",
        "model.add(Dropout(0.5))\n",
        "model.add(Dense(num_classes))\n",
        "model.add(Activation('softmax'))"
      ],
      "execution_count": 0,
      "outputs": []
    },
    {
      "cell_type": "code",
      "metadata": {
        "id": "yI8MVOfRlKQo",
        "colab_type": "code",
        "outputId": "75b0d678-d859-4440-d21e-afa6447a9d6a",
        "colab": {
          "base_uri": "https://localhost:8080/",
          "height": 765
        }
      },
      "source": [
        "# summary\n",
        "model.summary()"
      ],
      "execution_count": 11,
      "outputs": [
        {
          "output_type": "stream",
          "text": [
            "Model: \"sequential_1\"\n",
            "_________________________________________________________________\n",
            "Layer (type)                 Output Shape              Param #   \n",
            "=================================================================\n",
            "conv2d_1 (Conv2D)            (None, 32, 32, 32)        896       \n",
            "_________________________________________________________________\n",
            "activation_1 (Activation)    (None, 32, 32, 32)        0         \n",
            "_________________________________________________________________\n",
            "conv2d_2 (Conv2D)            (None, 30, 30, 32)        9248      \n",
            "_________________________________________________________________\n",
            "activation_2 (Activation)    (None, 30, 30, 32)        0         \n",
            "_________________________________________________________________\n",
            "max_pooling2d_1 (MaxPooling2 (None, 15, 15, 32)        0         \n",
            "_________________________________________________________________\n",
            "dropout_1 (Dropout)          (None, 15, 15, 32)        0         \n",
            "_________________________________________________________________\n",
            "conv2d_3 (Conv2D)            (None, 15, 15, 64)        18496     \n",
            "_________________________________________________________________\n",
            "activation_3 (Activation)    (None, 15, 15, 64)        0         \n",
            "_________________________________________________________________\n",
            "conv2d_4 (Conv2D)            (None, 13, 13, 64)        36928     \n",
            "_________________________________________________________________\n",
            "activation_4 (Activation)    (None, 13, 13, 64)        0         \n",
            "_________________________________________________________________\n",
            "max_pooling2d_2 (MaxPooling2 (None, 6, 6, 64)          0         \n",
            "_________________________________________________________________\n",
            "dropout_2 (Dropout)          (None, 6, 6, 64)          0         \n",
            "_________________________________________________________________\n",
            "flatten_1 (Flatten)          (None, 2304)              0         \n",
            "_________________________________________________________________\n",
            "dense_1 (Dense)              (None, 512)               1180160   \n",
            "_________________________________________________________________\n",
            "activation_5 (Activation)    (None, 512)               0         \n",
            "_________________________________________________________________\n",
            "dropout_3 (Dropout)          (None, 512)               0         \n",
            "_________________________________________________________________\n",
            "dense_2 (Dense)              (None, 10)                5130      \n",
            "_________________________________________________________________\n",
            "activation_6 (Activation)    (None, 10)                0         \n",
            "=================================================================\n",
            "Total params: 1,250,858\n",
            "Trainable params: 1,250,858\n",
            "Non-trainable params: 0\n",
            "_________________________________________________________________\n"
          ],
          "name": "stdout"
        }
      ]
    },
    {
      "cell_type": "code",
      "metadata": {
        "id": "PGFzttzUlKQt",
        "colab_type": "code",
        "colab": {}
      },
      "source": [
        "# compile the model\n",
        "model.compile(loss='categorical_crossentropy',\n",
        "              optimizer='adam',\n",
        "              metrics=['accuracy'])\n",
        "\n",
        "# convert to float, normalise the data\n",
        "x_train = x_train.astype('float32')\n",
        "x_test = x_test.astype('float32')\n",
        "x_train /= 255\n",
        "x_test /= 255\n"
      ],
      "execution_count": 0,
      "outputs": []
    },
    {
      "cell_type": "markdown",
      "metadata": {
        "id": "wRmR0XfMP5NR",
        "colab_type": "text"
      },
      "source": [
        "### Let's start the Training:"
      ]
    },
    {
      "cell_type": "code",
      "metadata": {
        "id": "gLPv_ayvlKQy",
        "colab_type": "code",
        "outputId": "f3cba441-f4b7-4aeb-d03b-2c9976e98786",
        "colab": {
          "base_uri": "https://localhost:8080/",
          "height": 1000
        }
      },
      "source": [
        "# train \n",
        "model.fit(x_train, y_train,\n",
        "              batch_size=batch_size,\n",
        "              epochs=epochs,\n",
        "              validation_data=(x_test, y_test),\n",
        "              shuffle=True)"
      ],
      "execution_count": 13,
      "outputs": [
        {
          "output_type": "stream",
          "text": [
            "Train on 50000 samples, validate on 10000 samples\n",
            "Epoch 1/200\n",
            "50000/50000 [==============================] - 11s 224us/step - loss: 1.5048 - accuracy: 0.4523 - val_loss: 1.1772 - val_accuracy: 0.5842\n",
            "Epoch 2/200\n",
            "50000/50000 [==============================] - 10s 193us/step - loss: 1.1250 - accuracy: 0.6000 - val_loss: 0.9422 - val_accuracy: 0.6664\n",
            "Epoch 3/200\n",
            "50000/50000 [==============================] - 10s 192us/step - loss: 0.9722 - accuracy: 0.6579 - val_loss: 0.8445 - val_accuracy: 0.7012\n",
            "Epoch 4/200\n",
            "50000/50000 [==============================] - 10s 194us/step - loss: 0.8846 - accuracy: 0.6905 - val_loss: 0.7918 - val_accuracy: 0.7244\n",
            "Epoch 5/200\n",
            "50000/50000 [==============================] - 10s 194us/step - loss: 0.8223 - accuracy: 0.7146 - val_loss: 0.7305 - val_accuracy: 0.7447\n",
            "Epoch 6/200\n",
            "50000/50000 [==============================] - 10s 193us/step - loss: 0.7622 - accuracy: 0.7319 - val_loss: 0.7422 - val_accuracy: 0.7442\n",
            "Epoch 7/200\n",
            "50000/50000 [==============================] - 10s 194us/step - loss: 0.7335 - accuracy: 0.7430 - val_loss: 0.7295 - val_accuracy: 0.7487\n",
            "Epoch 8/200\n",
            "50000/50000 [==============================] - 10s 193us/step - loss: 0.7073 - accuracy: 0.7536 - val_loss: 0.7022 - val_accuracy: 0.7612\n",
            "Epoch 9/200\n",
            "50000/50000 [==============================] - 10s 193us/step - loss: 0.6789 - accuracy: 0.7611 - val_loss: 0.6765 - val_accuracy: 0.7697\n",
            "Epoch 10/200\n",
            "50000/50000 [==============================] - 10s 193us/step - loss: 0.6529 - accuracy: 0.7723 - val_loss: 0.6931 - val_accuracy: 0.7606\n",
            "Epoch 11/200\n",
            "50000/50000 [==============================] - 10s 193us/step - loss: 0.6286 - accuracy: 0.7787 - val_loss: 0.6476 - val_accuracy: 0.7772\n",
            "Epoch 12/200\n",
            "50000/50000 [==============================] - 10s 194us/step - loss: 0.6080 - accuracy: 0.7845 - val_loss: 0.6757 - val_accuracy: 0.7687\n",
            "Epoch 13/200\n",
            "50000/50000 [==============================] - 10s 194us/step - loss: 0.5973 - accuracy: 0.7883 - val_loss: 0.6538 - val_accuracy: 0.7792\n",
            "Epoch 14/200\n",
            "50000/50000 [==============================] - 10s 192us/step - loss: 0.5793 - accuracy: 0.7963 - val_loss: 0.6134 - val_accuracy: 0.7892\n",
            "Epoch 15/200\n",
            "50000/50000 [==============================] - 10s 193us/step - loss: 0.5641 - accuracy: 0.8018 - val_loss: 0.6616 - val_accuracy: 0.7725\n",
            "Epoch 16/200\n",
            "50000/50000 [==============================] - 10s 192us/step - loss: 0.5522 - accuracy: 0.8061 - val_loss: 0.6326 - val_accuracy: 0.7901\n",
            "Epoch 17/200\n",
            "50000/50000 [==============================] - 10s 193us/step - loss: 0.5413 - accuracy: 0.8089 - val_loss: 0.6479 - val_accuracy: 0.7818\n",
            "Epoch 18/200\n",
            "50000/50000 [==============================] - 10s 192us/step - loss: 0.5286 - accuracy: 0.8143 - val_loss: 0.6448 - val_accuracy: 0.7864\n",
            "Epoch 19/200\n",
            "50000/50000 [==============================] - 10s 193us/step - loss: 0.5168 - accuracy: 0.8170 - val_loss: 0.6696 - val_accuracy: 0.7821\n",
            "Epoch 20/200\n",
            "50000/50000 [==============================] - 10s 194us/step - loss: 0.5143 - accuracy: 0.8192 - val_loss: 0.6478 - val_accuracy: 0.7861\n",
            "Epoch 21/200\n",
            "50000/50000 [==============================] - 10s 194us/step - loss: 0.5088 - accuracy: 0.8213 - val_loss: 0.6437 - val_accuracy: 0.7938\n",
            "Epoch 22/200\n",
            "50000/50000 [==============================] - 10s 193us/step - loss: 0.4922 - accuracy: 0.8289 - val_loss: 0.6711 - val_accuracy: 0.7874\n",
            "Epoch 23/200\n",
            "50000/50000 [==============================] - 10s 192us/step - loss: 0.4870 - accuracy: 0.8300 - val_loss: 0.6295 - val_accuracy: 0.7913\n",
            "Epoch 24/200\n",
            "50000/50000 [==============================] - 10s 193us/step - loss: 0.4820 - accuracy: 0.8305 - val_loss: 0.6389 - val_accuracy: 0.7846\n",
            "Epoch 25/200\n",
            "50000/50000 [==============================] - 10s 193us/step - loss: 0.4711 - accuracy: 0.8335 - val_loss: 0.6560 - val_accuracy: 0.7923\n",
            "Epoch 26/200\n",
            "50000/50000 [==============================] - 10s 196us/step - loss: 0.4722 - accuracy: 0.8344 - val_loss: 0.6325 - val_accuracy: 0.7912\n",
            "Epoch 27/200\n",
            "50000/50000 [==============================] - 10s 196us/step - loss: 0.4590 - accuracy: 0.8385 - val_loss: 0.6634 - val_accuracy: 0.7868\n",
            "Epoch 28/200\n",
            "50000/50000 [==============================] - 10s 200us/step - loss: 0.4601 - accuracy: 0.8384 - val_loss: 0.6946 - val_accuracy: 0.7853\n",
            "Epoch 29/200\n",
            "50000/50000 [==============================] - 10s 194us/step - loss: 0.4535 - accuracy: 0.8411 - val_loss: 0.6535 - val_accuracy: 0.7904\n",
            "Epoch 30/200\n",
            "50000/50000 [==============================] - 10s 193us/step - loss: 0.4488 - accuracy: 0.8454 - val_loss: 0.6665 - val_accuracy: 0.7872\n",
            "Epoch 31/200\n",
            "50000/50000 [==============================] - 10s 193us/step - loss: 0.4461 - accuracy: 0.8437 - val_loss: 0.6682 - val_accuracy: 0.7838\n",
            "Epoch 32/200\n",
            "50000/50000 [==============================] - 10s 193us/step - loss: 0.4405 - accuracy: 0.8478 - val_loss: 0.6554 - val_accuracy: 0.7917\n",
            "Epoch 33/200\n",
            "50000/50000 [==============================] - 10s 194us/step - loss: 0.4367 - accuracy: 0.8486 - val_loss: 0.6448 - val_accuracy: 0.7959\n",
            "Epoch 34/200\n",
            "50000/50000 [==============================] - 10s 193us/step - loss: 0.4322 - accuracy: 0.8488 - val_loss: 0.6737 - val_accuracy: 0.7924\n",
            "Epoch 35/200\n",
            "50000/50000 [==============================] - 10s 192us/step - loss: 0.4296 - accuracy: 0.8521 - val_loss: 0.6707 - val_accuracy: 0.7966\n",
            "Epoch 36/200\n",
            "50000/50000 [==============================] - 10s 192us/step - loss: 0.4175 - accuracy: 0.8545 - val_loss: 0.6661 - val_accuracy: 0.7917\n",
            "Epoch 37/200\n",
            "50000/50000 [==============================] - 10s 195us/step - loss: 0.4253 - accuracy: 0.8504 - val_loss: 0.6612 - val_accuracy: 0.7967\n",
            "Epoch 38/200\n",
            "50000/50000 [==============================] - 10s 194us/step - loss: 0.4132 - accuracy: 0.8545 - val_loss: 0.6630 - val_accuracy: 0.7946\n",
            "Epoch 39/200\n",
            "50000/50000 [==============================] - 10s 194us/step - loss: 0.4157 - accuracy: 0.8549 - val_loss: 0.6940 - val_accuracy: 0.7862\n",
            "Epoch 40/200\n",
            "50000/50000 [==============================] - 10s 193us/step - loss: 0.4074 - accuracy: 0.8589 - val_loss: 0.6866 - val_accuracy: 0.7861\n",
            "Epoch 41/200\n",
            "50000/50000 [==============================] - 10s 193us/step - loss: 0.4083 - accuracy: 0.8589 - val_loss: 0.6627 - val_accuracy: 0.7955\n",
            "Epoch 42/200\n",
            "50000/50000 [==============================] - 10s 194us/step - loss: 0.4021 - accuracy: 0.8596 - val_loss: 0.6671 - val_accuracy: 0.7956\n",
            "Epoch 43/200\n",
            "50000/50000 [==============================] - 10s 193us/step - loss: 0.3949 - accuracy: 0.8633 - val_loss: 0.7292 - val_accuracy: 0.7829\n",
            "Epoch 44/200\n",
            "50000/50000 [==============================] - 10s 193us/step - loss: 0.4001 - accuracy: 0.8615 - val_loss: 0.6651 - val_accuracy: 0.7968\n",
            "Epoch 45/200\n",
            "50000/50000 [==============================] - 10s 195us/step - loss: 0.3966 - accuracy: 0.8614 - val_loss: 0.6481 - val_accuracy: 0.7984\n",
            "Epoch 46/200\n",
            "50000/50000 [==============================] - 10s 195us/step - loss: 0.3997 - accuracy: 0.8633 - val_loss: 0.6469 - val_accuracy: 0.7919\n",
            "Epoch 47/200\n",
            "50000/50000 [==============================] - 10s 193us/step - loss: 0.3903 - accuracy: 0.8640 - val_loss: 0.6660 - val_accuracy: 0.7889\n",
            "Epoch 48/200\n",
            "50000/50000 [==============================] - 10s 193us/step - loss: 0.3920 - accuracy: 0.8646 - val_loss: 0.6745 - val_accuracy: 0.7999\n",
            "Epoch 49/200\n",
            "50000/50000 [==============================] - 10s 193us/step - loss: 0.3941 - accuracy: 0.8635 - val_loss: 0.6600 - val_accuracy: 0.7955\n",
            "Epoch 50/200\n",
            "50000/50000 [==============================] - 10s 194us/step - loss: 0.3879 - accuracy: 0.8665 - val_loss: 0.6614 - val_accuracy: 0.8027\n",
            "Epoch 51/200\n",
            "50000/50000 [==============================] - 10s 194us/step - loss: 0.3758 - accuracy: 0.8692 - val_loss: 0.7264 - val_accuracy: 0.7929\n",
            "Epoch 52/200\n",
            "50000/50000 [==============================] - 10s 193us/step - loss: 0.3827 - accuracy: 0.8678 - val_loss: 0.6711 - val_accuracy: 0.7966\n",
            "Epoch 53/200\n",
            "50000/50000 [==============================] - 10s 193us/step - loss: 0.3803 - accuracy: 0.8690 - val_loss: 0.6782 - val_accuracy: 0.7969\n",
            "Epoch 54/200\n",
            "50000/50000 [==============================] - 10s 194us/step - loss: 0.3807 - accuracy: 0.8684 - val_loss: 0.6795 - val_accuracy: 0.7885\n",
            "Epoch 55/200\n",
            "50000/50000 [==============================] - 10s 194us/step - loss: 0.3754 - accuracy: 0.8710 - val_loss: 0.6601 - val_accuracy: 0.8023\n",
            "Epoch 56/200\n",
            "50000/50000 [==============================] - 10s 193us/step - loss: 0.3714 - accuracy: 0.8708 - val_loss: 0.6684 - val_accuracy: 0.7971\n",
            "Epoch 57/200\n",
            "50000/50000 [==============================] - 10s 193us/step - loss: 0.3756 - accuracy: 0.8717 - val_loss: 0.6680 - val_accuracy: 0.7972\n",
            "Epoch 58/200\n",
            "50000/50000 [==============================] - 10s 197us/step - loss: 0.3708 - accuracy: 0.8734 - val_loss: 0.6728 - val_accuracy: 0.7994\n",
            "Epoch 59/200\n",
            "50000/50000 [==============================] - 10s 195us/step - loss: 0.3720 - accuracy: 0.8718 - val_loss: 0.7552 - val_accuracy: 0.7870\n",
            "Epoch 60/200\n",
            "50000/50000 [==============================] - 10s 201us/step - loss: 0.3655 - accuracy: 0.8734 - val_loss: 0.6893 - val_accuracy: 0.7981\n",
            "Epoch 61/200\n",
            "50000/50000 [==============================] - 10s 194us/step - loss: 0.3705 - accuracy: 0.8730 - val_loss: 0.7133 - val_accuracy: 0.7993\n",
            "Epoch 62/200\n",
            "50000/50000 [==============================] - 10s 195us/step - loss: 0.3635 - accuracy: 0.8767 - val_loss: 0.6853 - val_accuracy: 0.7923\n",
            "Epoch 63/200\n",
            "50000/50000 [==============================] - 10s 194us/step - loss: 0.3652 - accuracy: 0.8748 - val_loss: 0.6706 - val_accuracy: 0.8008\n",
            "Epoch 64/200\n",
            "50000/50000 [==============================] - 10s 193us/step - loss: 0.3613 - accuracy: 0.8755 - val_loss: 0.6930 - val_accuracy: 0.7953\n",
            "Epoch 65/200\n",
            "50000/50000 [==============================] - 10s 193us/step - loss: 0.3602 - accuracy: 0.8768 - val_loss: 0.6648 - val_accuracy: 0.8041\n",
            "Epoch 66/200\n",
            "50000/50000 [==============================] - 10s 192us/step - loss: 0.3603 - accuracy: 0.8760 - val_loss: 0.7074 - val_accuracy: 0.7994\n",
            "Epoch 67/200\n",
            "50000/50000 [==============================] - 10s 193us/step - loss: 0.3551 - accuracy: 0.8783 - val_loss: 0.6678 - val_accuracy: 0.7939\n",
            "Epoch 68/200\n",
            "50000/50000 [==============================] - 10s 193us/step - loss: 0.3587 - accuracy: 0.8783 - val_loss: 0.6667 - val_accuracy: 0.8007\n",
            "Epoch 69/200\n",
            "50000/50000 [==============================] - 10s 193us/step - loss: 0.3560 - accuracy: 0.8781 - val_loss: 0.6837 - val_accuracy: 0.8069\n",
            "Epoch 70/200\n",
            "50000/50000 [==============================] - 10s 194us/step - loss: 0.3535 - accuracy: 0.8793 - val_loss: 0.6873 - val_accuracy: 0.7964\n",
            "Epoch 71/200\n",
            "50000/50000 [==============================] - 10s 195us/step - loss: 0.3515 - accuracy: 0.8795 - val_loss: 0.6995 - val_accuracy: 0.7977\n",
            "Epoch 72/200\n",
            "50000/50000 [==============================] - 10s 193us/step - loss: 0.3503 - accuracy: 0.8804 - val_loss: 0.7018 - val_accuracy: 0.7901\n",
            "Epoch 73/200\n",
            "50000/50000 [==============================] - 10s 192us/step - loss: 0.3486 - accuracy: 0.8801 - val_loss: 0.7220 - val_accuracy: 0.7987\n",
            "Epoch 74/200\n",
            "50000/50000 [==============================] - 10s 193us/step - loss: 0.3545 - accuracy: 0.8789 - val_loss: 0.6982 - val_accuracy: 0.7959\n",
            "Epoch 75/200\n",
            "50000/50000 [==============================] - 10s 194us/step - loss: 0.3407 - accuracy: 0.8839 - val_loss: 0.7232 - val_accuracy: 0.7950\n",
            "Epoch 76/200\n",
            "50000/50000 [==============================] - 10s 193us/step - loss: 0.3500 - accuracy: 0.8812 - val_loss: 0.7071 - val_accuracy: 0.7979\n",
            "Epoch 77/200\n",
            "50000/50000 [==============================] - 10s 194us/step - loss: 0.3519 - accuracy: 0.8820 - val_loss: 0.6731 - val_accuracy: 0.7978\n",
            "Epoch 78/200\n",
            "50000/50000 [==============================] - 10s 193us/step - loss: 0.3433 - accuracy: 0.8833 - val_loss: 0.6957 - val_accuracy: 0.8071\n",
            "Epoch 79/200\n",
            "50000/50000 [==============================] - 10s 195us/step - loss: 0.3458 - accuracy: 0.8835 - val_loss: 0.7263 - val_accuracy: 0.7970\n",
            "Epoch 80/200\n",
            "50000/50000 [==============================] - 10s 193us/step - loss: 0.3434 - accuracy: 0.8835 - val_loss: 0.7059 - val_accuracy: 0.8008\n",
            "Epoch 81/200\n",
            "50000/50000 [==============================] - 10s 193us/step - loss: 0.3446 - accuracy: 0.8831 - val_loss: 0.6891 - val_accuracy: 0.7986\n",
            "Epoch 82/200\n",
            "50000/50000 [==============================] - 10s 193us/step - loss: 0.3395 - accuracy: 0.8832 - val_loss: 0.6982 - val_accuracy: 0.8062\n",
            "Epoch 83/200\n",
            "50000/50000 [==============================] - 10s 193us/step - loss: 0.3343 - accuracy: 0.8855 - val_loss: 0.6679 - val_accuracy: 0.8040\n",
            "Epoch 84/200\n",
            "50000/50000 [==============================] - 10s 193us/step - loss: 0.3402 - accuracy: 0.8836 - val_loss: 0.6795 - val_accuracy: 0.8018\n",
            "Epoch 85/200\n",
            "50000/50000 [==============================] - 10s 192us/step - loss: 0.3268 - accuracy: 0.8877 - val_loss: 0.7100 - val_accuracy: 0.8054\n",
            "Epoch 86/200\n",
            "50000/50000 [==============================] - 10s 194us/step - loss: 0.3392 - accuracy: 0.8857 - val_loss: 0.6975 - val_accuracy: 0.7963\n",
            "Epoch 87/200\n",
            "50000/50000 [==============================] - 10s 194us/step - loss: 0.3343 - accuracy: 0.8864 - val_loss: 0.6951 - val_accuracy: 0.8012\n",
            "Epoch 88/200\n",
            "50000/50000 [==============================] - 10s 194us/step - loss: 0.3285 - accuracy: 0.8895 - val_loss: 0.7130 - val_accuracy: 0.8049\n",
            "Epoch 89/200\n",
            "50000/50000 [==============================] - 10s 196us/step - loss: 0.3259 - accuracy: 0.8900 - val_loss: 0.7015 - val_accuracy: 0.7990\n",
            "Epoch 90/200\n",
            "50000/50000 [==============================] - 10s 193us/step - loss: 0.3270 - accuracy: 0.8894 - val_loss: 0.6902 - val_accuracy: 0.8049\n",
            "Epoch 91/200\n",
            "50000/50000 [==============================] - 10s 194us/step - loss: 0.3326 - accuracy: 0.8880 - val_loss: 0.6968 - val_accuracy: 0.7970\n",
            "Epoch 92/200\n",
            "50000/50000 [==============================] - 10s 201us/step - loss: 0.3299 - accuracy: 0.8897 - val_loss: 0.7021 - val_accuracy: 0.8069\n",
            "Epoch 93/200\n",
            "50000/50000 [==============================] - 10s 193us/step - loss: 0.3328 - accuracy: 0.8870 - val_loss: 0.7171 - val_accuracy: 0.8016\n",
            "Epoch 94/200\n",
            "50000/50000 [==============================] - 10s 193us/step - loss: 0.3293 - accuracy: 0.8891 - val_loss: 0.7978 - val_accuracy: 0.7910\n",
            "Epoch 95/200\n",
            "50000/50000 [==============================] - 10s 194us/step - loss: 0.3312 - accuracy: 0.8901 - val_loss: 0.6989 - val_accuracy: 0.8016\n",
            "Epoch 96/200\n",
            "50000/50000 [==============================] - 10s 195us/step - loss: 0.3277 - accuracy: 0.8891 - val_loss: 0.7196 - val_accuracy: 0.7961\n",
            "Epoch 97/200\n",
            "50000/50000 [==============================] - 10s 193us/step - loss: 0.3213 - accuracy: 0.8908 - val_loss: 0.7410 - val_accuracy: 0.7976\n",
            "Epoch 98/200\n",
            "50000/50000 [==============================] - 10s 193us/step - loss: 0.3241 - accuracy: 0.8918 - val_loss: 0.7369 - val_accuracy: 0.7964\n",
            "Epoch 99/200\n",
            "50000/50000 [==============================] - 10s 193us/step - loss: 0.3286 - accuracy: 0.8902 - val_loss: 0.7644 - val_accuracy: 0.7878\n",
            "Epoch 100/200\n",
            "50000/50000 [==============================] - 10s 193us/step - loss: 0.3232 - accuracy: 0.8913 - val_loss: 0.7233 - val_accuracy: 0.8002\n",
            "Epoch 101/200\n",
            "50000/50000 [==============================] - 10s 192us/step - loss: 0.3292 - accuracy: 0.8906 - val_loss: 0.7037 - val_accuracy: 0.8019\n",
            "Epoch 102/200\n",
            "50000/50000 [==============================] - 10s 193us/step - loss: 0.3243 - accuracy: 0.8913 - val_loss: 0.7198 - val_accuracy: 0.7972\n",
            "Epoch 103/200\n",
            "50000/50000 [==============================] - 10s 193us/step - loss: 0.3298 - accuracy: 0.8897 - val_loss: 0.7314 - val_accuracy: 0.8038\n",
            "Epoch 104/200\n",
            "50000/50000 [==============================] - 10s 194us/step - loss: 0.3239 - accuracy: 0.8933 - val_loss: 0.7168 - val_accuracy: 0.8048\n",
            "Epoch 105/200\n",
            "50000/50000 [==============================] - 10s 192us/step - loss: 0.3178 - accuracy: 0.8937 - val_loss: 0.7252 - val_accuracy: 0.7949\n",
            "Epoch 106/200\n",
            "50000/50000 [==============================] - 10s 193us/step - loss: 0.3165 - accuracy: 0.8929 - val_loss: 0.7538 - val_accuracy: 0.7973\n",
            "Epoch 107/200\n",
            "50000/50000 [==============================] - 10s 192us/step - loss: 0.3166 - accuracy: 0.8949 - val_loss: 0.7328 - val_accuracy: 0.7976\n",
            "Epoch 108/200\n",
            "50000/50000 [==============================] - 10s 193us/step - loss: 0.3242 - accuracy: 0.8924 - val_loss: 0.7138 - val_accuracy: 0.8058\n",
            "Epoch 109/200\n",
            "50000/50000 [==============================] - 10s 192us/step - loss: 0.3165 - accuracy: 0.8932 - val_loss: 0.7136 - val_accuracy: 0.7984\n",
            "Epoch 110/200\n",
            "50000/50000 [==============================] - 10s 192us/step - loss: 0.3202 - accuracy: 0.8945 - val_loss: 0.7044 - val_accuracy: 0.8003\n",
            "Epoch 111/200\n",
            "50000/50000 [==============================] - 10s 192us/step - loss: 0.3152 - accuracy: 0.8938 - val_loss: 0.7543 - val_accuracy: 0.7951\n",
            "Epoch 112/200\n",
            "50000/50000 [==============================] - 10s 194us/step - loss: 0.3100 - accuracy: 0.8968 - val_loss: 0.7464 - val_accuracy: 0.8000\n",
            "Epoch 113/200\n",
            "50000/50000 [==============================] - 10s 193us/step - loss: 0.3167 - accuracy: 0.8950 - val_loss: 0.7197 - val_accuracy: 0.8009\n",
            "Epoch 114/200\n",
            "50000/50000 [==============================] - 10s 191us/step - loss: 0.3209 - accuracy: 0.8928 - val_loss: 0.7036 - val_accuracy: 0.8089\n",
            "Epoch 115/200\n",
            "50000/50000 [==============================] - 10s 192us/step - loss: 0.3111 - accuracy: 0.8951 - val_loss: 0.7638 - val_accuracy: 0.7966\n",
            "Epoch 116/200\n",
            "50000/50000 [==============================] - 10s 193us/step - loss: 0.3195 - accuracy: 0.8938 - val_loss: 0.7351 - val_accuracy: 0.7921\n",
            "Epoch 117/200\n",
            "50000/50000 [==============================] - 10s 192us/step - loss: 0.3160 - accuracy: 0.8935 - val_loss: 0.6870 - val_accuracy: 0.8043\n",
            "Epoch 118/200\n",
            "50000/50000 [==============================] - 10s 193us/step - loss: 0.3129 - accuracy: 0.8954 - val_loss: 0.7171 - val_accuracy: 0.7987\n",
            "Epoch 119/200\n",
            "50000/50000 [==============================] - 10s 193us/step - loss: 0.3132 - accuracy: 0.8949 - val_loss: 0.7182 - val_accuracy: 0.8063\n",
            "Epoch 120/200\n",
            "50000/50000 [==============================] - 10s 194us/step - loss: 0.3130 - accuracy: 0.8960 - val_loss: 0.7181 - val_accuracy: 0.8006\n",
            "Epoch 121/200\n",
            "50000/50000 [==============================] - 10s 197us/step - loss: 0.3090 - accuracy: 0.8954 - val_loss: 0.7130 - val_accuracy: 0.7997\n",
            "Epoch 122/200\n",
            "50000/50000 [==============================] - 10s 192us/step - loss: 0.3060 - accuracy: 0.8993 - val_loss: 0.7006 - val_accuracy: 0.8054\n",
            "Epoch 123/200\n",
            "50000/50000 [==============================] - 10s 192us/step - loss: 0.3065 - accuracy: 0.8975 - val_loss: 0.7320 - val_accuracy: 0.7944\n",
            "Epoch 124/200\n",
            "50000/50000 [==============================] - 10s 203us/step - loss: 0.3140 - accuracy: 0.8952 - val_loss: 0.7383 - val_accuracy: 0.8000\n",
            "Epoch 125/200\n",
            "50000/50000 [==============================] - 10s 193us/step - loss: 0.3003 - accuracy: 0.8989 - val_loss: 0.7141 - val_accuracy: 0.8050\n",
            "Epoch 126/200\n",
            "50000/50000 [==============================] - 10s 192us/step - loss: 0.3144 - accuracy: 0.8962 - val_loss: 0.7308 - val_accuracy: 0.8054\n",
            "Epoch 127/200\n",
            "50000/50000 [==============================] - 10s 193us/step - loss: 0.3136 - accuracy: 0.8958 - val_loss: 0.7733 - val_accuracy: 0.7918\n",
            "Epoch 128/200\n",
            "50000/50000 [==============================] - 10s 192us/step - loss: 0.3101 - accuracy: 0.8969 - val_loss: 0.7591 - val_accuracy: 0.7971\n",
            "Epoch 129/200\n",
            "50000/50000 [==============================] - 10s 194us/step - loss: 0.3181 - accuracy: 0.8947 - val_loss: 0.7082 - val_accuracy: 0.8072\n",
            "Epoch 130/200\n",
            "50000/50000 [==============================] - 10s 192us/step - loss: 0.3022 - accuracy: 0.8984 - val_loss: 0.7504 - val_accuracy: 0.7981\n",
            "Epoch 131/200\n",
            "50000/50000 [==============================] - 10s 193us/step - loss: 0.3034 - accuracy: 0.8989 - val_loss: 0.7299 - val_accuracy: 0.8016\n",
            "Epoch 132/200\n",
            "50000/50000 [==============================] - 10s 192us/step - loss: 0.3083 - accuracy: 0.8978 - val_loss: 0.7523 - val_accuracy: 0.8019\n",
            "Epoch 133/200\n",
            "50000/50000 [==============================] - 10s 192us/step - loss: 0.3084 - accuracy: 0.8982 - val_loss: 0.7452 - val_accuracy: 0.7957\n",
            "Epoch 134/200\n",
            "50000/50000 [==============================] - 10s 192us/step - loss: 0.3101 - accuracy: 0.8985 - val_loss: 0.7374 - val_accuracy: 0.8055\n",
            "Epoch 135/200\n",
            "50000/50000 [==============================] - 10s 191us/step - loss: 0.3110 - accuracy: 0.8974 - val_loss: 0.7420 - val_accuracy: 0.7929\n",
            "Epoch 136/200\n",
            "50000/50000 [==============================] - 10s 192us/step - loss: 0.3045 - accuracy: 0.8987 - val_loss: 0.7271 - val_accuracy: 0.8021\n",
            "Epoch 137/200\n",
            "50000/50000 [==============================] - 10s 194us/step - loss: 0.3046 - accuracy: 0.9001 - val_loss: 0.7640 - val_accuracy: 0.8015\n",
            "Epoch 138/200\n",
            "50000/50000 [==============================] - 10s 193us/step - loss: 0.2932 - accuracy: 0.9026 - val_loss: 0.7289 - val_accuracy: 0.8000\n",
            "Epoch 139/200\n",
            "50000/50000 [==============================] - 10s 193us/step - loss: 0.2984 - accuracy: 0.8999 - val_loss: 0.7273 - val_accuracy: 0.8013\n",
            "Epoch 140/200\n",
            "50000/50000 [==============================] - 10s 192us/step - loss: 0.3056 - accuracy: 0.8993 - val_loss: 0.7588 - val_accuracy: 0.8076\n",
            "Epoch 141/200\n",
            "50000/50000 [==============================] - 10s 193us/step - loss: 0.3005 - accuracy: 0.8999 - val_loss: 0.7147 - val_accuracy: 0.8032\n",
            "Epoch 142/200\n",
            "50000/50000 [==============================] - 10s 192us/step - loss: 0.3088 - accuracy: 0.8970 - val_loss: 0.7500 - val_accuracy: 0.8055\n",
            "Epoch 143/200\n",
            "50000/50000 [==============================] - 10s 192us/step - loss: 0.3067 - accuracy: 0.8989 - val_loss: 0.7443 - val_accuracy: 0.8022\n",
            "Epoch 144/200\n",
            "50000/50000 [==============================] - 10s 192us/step - loss: 0.3007 - accuracy: 0.9006 - val_loss: 0.7517 - val_accuracy: 0.8050\n",
            "Epoch 145/200\n",
            "50000/50000 [==============================] - 10s 192us/step - loss: 0.3019 - accuracy: 0.8993 - val_loss: 0.7231 - val_accuracy: 0.8053\n",
            "Epoch 146/200\n",
            "50000/50000 [==============================] - 10s 194us/step - loss: 0.3120 - accuracy: 0.8980 - val_loss: 0.7323 - val_accuracy: 0.8050\n",
            "Epoch 147/200\n",
            "50000/50000 [==============================] - 10s 192us/step - loss: 0.3049 - accuracy: 0.8996 - val_loss: 0.7353 - val_accuracy: 0.8014\n",
            "Epoch 148/200\n",
            "50000/50000 [==============================] - 10s 192us/step - loss: 0.2901 - accuracy: 0.9033 - val_loss: 0.7369 - val_accuracy: 0.8028\n",
            "Epoch 149/200\n",
            "50000/50000 [==============================] - 10s 193us/step - loss: 0.2993 - accuracy: 0.9026 - val_loss: 0.7572 - val_accuracy: 0.8047\n",
            "Epoch 150/200\n",
            "50000/50000 [==============================] - 10s 192us/step - loss: 0.3074 - accuracy: 0.8994 - val_loss: 0.7535 - val_accuracy: 0.8027\n",
            "Epoch 151/200\n",
            "50000/50000 [==============================] - 10s 191us/step - loss: 0.2979 - accuracy: 0.9022 - val_loss: 0.7367 - val_accuracy: 0.8020\n",
            "Epoch 152/200\n",
            "50000/50000 [==============================] - 10s 194us/step - loss: 0.2975 - accuracy: 0.9021 - val_loss: 0.7427 - val_accuracy: 0.8012\n",
            "Epoch 153/200\n",
            "50000/50000 [==============================] - 10s 194us/step - loss: 0.2996 - accuracy: 0.8998 - val_loss: 0.7400 - val_accuracy: 0.8050\n",
            "Epoch 154/200\n",
            "50000/50000 [==============================] - 10s 194us/step - loss: 0.2850 - accuracy: 0.9056 - val_loss: 0.7501 - val_accuracy: 0.7983\n",
            "Epoch 155/200\n",
            "50000/50000 [==============================] - 10s 192us/step - loss: 0.3008 - accuracy: 0.9011 - val_loss: 0.7521 - val_accuracy: 0.7998\n",
            "Epoch 156/200\n",
            "50000/50000 [==============================] - 10s 200us/step - loss: 0.2935 - accuracy: 0.9037 - val_loss: 0.7490 - val_accuracy: 0.8031\n",
            "Epoch 157/200\n",
            "50000/50000 [==============================] - 10s 194us/step - loss: 0.2998 - accuracy: 0.9019 - val_loss: 0.7562 - val_accuracy: 0.8000\n",
            "Epoch 158/200\n",
            "50000/50000 [==============================] - 10s 193us/step - loss: 0.3001 - accuracy: 0.9019 - val_loss: 0.7454 - val_accuracy: 0.8052\n",
            "Epoch 159/200\n",
            "50000/50000 [==============================] - 10s 192us/step - loss: 0.3061 - accuracy: 0.8994 - val_loss: 0.7543 - val_accuracy: 0.7927\n",
            "Epoch 160/200\n",
            "50000/50000 [==============================] - 10s 192us/step - loss: 0.3012 - accuracy: 0.9033 - val_loss: 0.7709 - val_accuracy: 0.7950\n",
            "Epoch 161/200\n",
            "50000/50000 [==============================] - 10s 193us/step - loss: 0.3011 - accuracy: 0.9006 - val_loss: 0.7978 - val_accuracy: 0.8062\n",
            "Epoch 162/200\n",
            "50000/50000 [==============================] - 10s 193us/step - loss: 0.3034 - accuracy: 0.9010 - val_loss: 0.7228 - val_accuracy: 0.8036\n",
            "Epoch 163/200\n",
            "50000/50000 [==============================] - 10s 194us/step - loss: 0.2905 - accuracy: 0.9037 - val_loss: 0.8331 - val_accuracy: 0.8028\n",
            "Epoch 164/200\n",
            "50000/50000 [==============================] - 10s 192us/step - loss: 0.3005 - accuracy: 0.9017 - val_loss: 0.7458 - val_accuracy: 0.7952\n",
            "Epoch 165/200\n",
            "50000/50000 [==============================] - 10s 192us/step - loss: 0.2984 - accuracy: 0.9005 - val_loss: 0.8414 - val_accuracy: 0.7978\n",
            "Epoch 166/200\n",
            "50000/50000 [==============================] - 10s 191us/step - loss: 0.2985 - accuracy: 0.9026 - val_loss: 0.8138 - val_accuracy: 0.7962\n",
            "Epoch 167/200\n",
            "50000/50000 [==============================] - 10s 192us/step - loss: 0.2844 - accuracy: 0.9082 - val_loss: 0.7836 - val_accuracy: 0.8029\n",
            "Epoch 168/200\n",
            "50000/50000 [==============================] - 10s 192us/step - loss: 0.2978 - accuracy: 0.9022 - val_loss: 0.7679 - val_accuracy: 0.7934\n",
            "Epoch 169/200\n",
            "50000/50000 [==============================] - 10s 192us/step - loss: 0.2966 - accuracy: 0.9043 - val_loss: 0.7892 - val_accuracy: 0.7980\n",
            "Epoch 170/200\n",
            "50000/50000 [==============================] - 10s 193us/step - loss: 0.2953 - accuracy: 0.9029 - val_loss: 0.7381 - val_accuracy: 0.8026\n",
            "Epoch 171/200\n",
            "50000/50000 [==============================] - 10s 194us/step - loss: 0.2941 - accuracy: 0.9037 - val_loss: 0.7277 - val_accuracy: 0.8037\n",
            "Epoch 172/200\n",
            "50000/50000 [==============================] - 10s 192us/step - loss: 0.2908 - accuracy: 0.9056 - val_loss: 0.7574 - val_accuracy: 0.7976\n",
            "Epoch 173/200\n",
            "50000/50000 [==============================] - 10s 192us/step - loss: 0.3002 - accuracy: 0.9023 - val_loss: 0.7470 - val_accuracy: 0.8073\n",
            "Epoch 174/200\n",
            "50000/50000 [==============================] - 10s 192us/step - loss: 0.2944 - accuracy: 0.9037 - val_loss: 0.8007 - val_accuracy: 0.8000\n",
            "Epoch 175/200\n",
            "50000/50000 [==============================] - 10s 192us/step - loss: 0.2955 - accuracy: 0.9041 - val_loss: 0.7725 - val_accuracy: 0.7969\n",
            "Epoch 176/200\n",
            "50000/50000 [==============================] - 10s 193us/step - loss: 0.2883 - accuracy: 0.9058 - val_loss: 0.7690 - val_accuracy: 0.8002\n",
            "Epoch 177/200\n",
            "50000/50000 [==============================] - 10s 193us/step - loss: 0.2924 - accuracy: 0.9045 - val_loss: 0.7953 - val_accuracy: 0.8001\n",
            "Epoch 178/200\n",
            "50000/50000 [==============================] - 10s 191us/step - loss: 0.2979 - accuracy: 0.9026 - val_loss: 0.7253 - val_accuracy: 0.7989\n",
            "Epoch 179/200\n",
            "50000/50000 [==============================] - 10s 193us/step - loss: 0.2885 - accuracy: 0.9049 - val_loss: 0.8016 - val_accuracy: 0.8001\n",
            "Epoch 180/200\n",
            "50000/50000 [==============================] - 10s 193us/step - loss: 0.2973 - accuracy: 0.9034 - val_loss: 0.7771 - val_accuracy: 0.8009\n",
            "Epoch 181/200\n",
            "50000/50000 [==============================] - 10s 192us/step - loss: 0.2905 - accuracy: 0.9053 - val_loss: 0.7987 - val_accuracy: 0.7969\n",
            "Epoch 182/200\n",
            "50000/50000 [==============================] - 10s 192us/step - loss: 0.2914 - accuracy: 0.9071 - val_loss: 0.7284 - val_accuracy: 0.8009\n",
            "Epoch 183/200\n",
            "50000/50000 [==============================] - 10s 192us/step - loss: 0.2863 - accuracy: 0.9073 - val_loss: 0.7265 - val_accuracy: 0.8025\n",
            "Epoch 184/200\n",
            "50000/50000 [==============================] - 10s 195us/step - loss: 0.2936 - accuracy: 0.9039 - val_loss: 0.7563 - val_accuracy: 0.7993\n",
            "Epoch 185/200\n",
            "50000/50000 [==============================] - 10s 192us/step - loss: 0.2957 - accuracy: 0.9024 - val_loss: 0.7772 - val_accuracy: 0.7988\n",
            "Epoch 186/200\n",
            "50000/50000 [==============================] - 10s 193us/step - loss: 0.2894 - accuracy: 0.9045 - val_loss: 0.7775 - val_accuracy: 0.8108\n",
            "Epoch 187/200\n",
            "50000/50000 [==============================] - 10s 194us/step - loss: 0.2857 - accuracy: 0.9063 - val_loss: 0.7590 - val_accuracy: 0.7986\n",
            "Epoch 188/200\n",
            "50000/50000 [==============================] - 10s 200us/step - loss: 0.2917 - accuracy: 0.9049 - val_loss: 0.7291 - val_accuracy: 0.8056\n",
            "Epoch 189/200\n",
            "50000/50000 [==============================] - 10s 197us/step - loss: 0.2854 - accuracy: 0.9061 - val_loss: 0.7720 - val_accuracy: 0.7989\n",
            "Epoch 190/200\n",
            "50000/50000 [==============================] - 10s 192us/step - loss: 0.2900 - accuracy: 0.9054 - val_loss: 0.7431 - val_accuracy: 0.8122\n",
            "Epoch 191/200\n",
            "50000/50000 [==============================] - 10s 192us/step - loss: 0.2920 - accuracy: 0.9044 - val_loss: 0.8164 - val_accuracy: 0.7982\n",
            "Epoch 192/200\n",
            "50000/50000 [==============================] - 10s 192us/step - loss: 0.2979 - accuracy: 0.9031 - val_loss: 0.7263 - val_accuracy: 0.8007\n",
            "Epoch 193/200\n",
            "50000/50000 [==============================] - 10s 192us/step - loss: 0.2844 - accuracy: 0.9072 - val_loss: 0.7920 - val_accuracy: 0.7986\n",
            "Epoch 194/200\n",
            "50000/50000 [==============================] - 10s 193us/step - loss: 0.2928 - accuracy: 0.9053 - val_loss: 0.7680 - val_accuracy: 0.8039\n",
            "Epoch 195/200\n",
            "50000/50000 [==============================] - 10s 192us/step - loss: 0.2862 - accuracy: 0.9072 - val_loss: 0.7688 - val_accuracy: 0.7960\n",
            "Epoch 196/200\n",
            "50000/50000 [==============================] - 10s 194us/step - loss: 0.2868 - accuracy: 0.9067 - val_loss: 0.7575 - val_accuracy: 0.7985\n",
            "Epoch 197/200\n",
            "50000/50000 [==============================] - 10s 192us/step - loss: 0.2844 - accuracy: 0.9067 - val_loss: 0.8271 - val_accuracy: 0.7887\n",
            "Epoch 198/200\n",
            "50000/50000 [==============================] - 10s 191us/step - loss: 0.2826 - accuracy: 0.9078 - val_loss: 0.7322 - val_accuracy: 0.7975\n",
            "Epoch 199/200\n",
            "50000/50000 [==============================] - 10s 193us/step - loss: 0.2866 - accuracy: 0.9068 - val_loss: 0.8513 - val_accuracy: 0.7941\n",
            "Epoch 200/200\n",
            "50000/50000 [==============================] - 10s 192us/step - loss: 0.2887 - accuracy: 0.9067 - val_loss: 0.8362 - val_accuracy: 0.7989\n"
          ],
          "name": "stdout"
        },
        {
          "output_type": "execute_result",
          "data": {
            "text/plain": [
              "<keras.callbacks.callbacks.History at 0x7faf76c54278>"
            ]
          },
          "metadata": {
            "tags": []
          },
          "execution_count": 13
        }
      ]
    },
    {
      "cell_type": "code",
      "metadata": {
        "id": "w6kiUQ1cb4y_",
        "colab_type": "code",
        "colab": {}
      },
      "source": [
        "model.save(\"model.h5\")"
      ],
      "execution_count": 0,
      "outputs": []
    },
    {
      "cell_type": "code",
      "metadata": {
        "id": "K8RIt6sqQvZ8",
        "colab_type": "code",
        "outputId": "e94df494-6207-4e09-9b4b-c9308a860167",
        "colab": {
          "base_uri": "https://localhost:8080/",
          "height": 850
        }
      },
      "source": [
        "x_train[0]"
      ],
      "execution_count": 15,
      "outputs": [
        {
          "output_type": "execute_result",
          "data": {
            "text/plain": [
              "array([[[0.23137255, 0.24313726, 0.24705882],\n",
              "        [0.16862746, 0.18039216, 0.1764706 ],\n",
              "        [0.19607843, 0.1882353 , 0.16862746],\n",
              "        ...,\n",
              "        [0.61960787, 0.5176471 , 0.42352942],\n",
              "        [0.59607846, 0.49019608, 0.4       ],\n",
              "        [0.5803922 , 0.4862745 , 0.40392157]],\n",
              "\n",
              "       [[0.0627451 , 0.07843138, 0.07843138],\n",
              "        [0.        , 0.        , 0.        ],\n",
              "        [0.07058824, 0.03137255, 0.        ],\n",
              "        ...,\n",
              "        [0.48235294, 0.34509805, 0.21568628],\n",
              "        [0.46666667, 0.3254902 , 0.19607843],\n",
              "        [0.47843137, 0.34117648, 0.22352941]],\n",
              "\n",
              "       [[0.09803922, 0.09411765, 0.08235294],\n",
              "        [0.0627451 , 0.02745098, 0.        ],\n",
              "        [0.19215687, 0.10588235, 0.03137255],\n",
              "        ...,\n",
              "        [0.4627451 , 0.32941177, 0.19607843],\n",
              "        [0.47058824, 0.32941177, 0.19607843],\n",
              "        [0.42745098, 0.28627452, 0.16470589]],\n",
              "\n",
              "       ...,\n",
              "\n",
              "       [[0.8156863 , 0.6666667 , 0.3764706 ],\n",
              "        [0.7882353 , 0.6       , 0.13333334],\n",
              "        [0.7764706 , 0.6313726 , 0.10196079],\n",
              "        ...,\n",
              "        [0.627451  , 0.52156866, 0.27450982],\n",
              "        [0.21960784, 0.12156863, 0.02745098],\n",
              "        [0.20784314, 0.13333334, 0.07843138]],\n",
              "\n",
              "       [[0.7058824 , 0.54509807, 0.3764706 ],\n",
              "        [0.6784314 , 0.48235294, 0.16470589],\n",
              "        [0.7294118 , 0.5647059 , 0.11764706],\n",
              "        ...,\n",
              "        [0.72156864, 0.5803922 , 0.36862746],\n",
              "        [0.38039216, 0.24313726, 0.13333334],\n",
              "        [0.3254902 , 0.20784314, 0.13333334]],\n",
              "\n",
              "       [[0.69411767, 0.5647059 , 0.45490196],\n",
              "        [0.65882355, 0.5058824 , 0.36862746],\n",
              "        [0.7019608 , 0.5568628 , 0.34117648],\n",
              "        ...,\n",
              "        [0.84705883, 0.72156864, 0.54901963],\n",
              "        [0.5921569 , 0.4627451 , 0.32941177],\n",
              "        [0.48235294, 0.36078432, 0.28235295]]], dtype=float32)"
            ]
          },
          "metadata": {
            "tags": []
          },
          "execution_count": 15
        }
      ]
    },
    {
      "cell_type": "code",
      "metadata": {
        "id": "18dvChrgP6J5",
        "colab_type": "code",
        "colab": {}
      },
      "source": [
        "test_image = np.expand_dims(x_train[0], axis = 0)\n",
        "result = model.predict(test_image)"
      ],
      "execution_count": 0,
      "outputs": []
    },
    {
      "cell_type": "markdown",
      "metadata": {
        "id": "nCiKErjSlKQ3",
        "colab_type": "text"
      },
      "source": [
        "Result: After 50 epochs, the difference between training and validation accuracy is low but the training is slow as compared to the model with batch normalization."
      ]
    },
    {
      "cell_type": "code",
      "metadata": {
        "id": "NKUKOKH1PU_m",
        "colab_type": "code",
        "outputId": "0e422474-e4da-4bba-8d50-6d42a3010f7d",
        "colab": {
          "base_uri": "https://localhost:8080/",
          "height": 34
        }
      },
      "source": [
        "result[0][0]"
      ],
      "execution_count": 17,
      "outputs": [
        {
          "output_type": "execute_result",
          "data": {
            "text/plain": [
              "7.581244e-07"
            ]
          },
          "metadata": {
            "tags": []
          },
          "execution_count": 17
        }
      ]
    },
    {
      "cell_type": "code",
      "metadata": {
        "id": "rtsEZqeVSjGy",
        "colab_type": "code",
        "outputId": "1105a779-dc27-48bb-ffb1-dd12dc22d4a0",
        "colab": {
          "base_uri": "https://localhost:8080/",
          "height": 34
        }
      },
      "source": [
        "np.argmax(result[0])"
      ],
      "execution_count": 18,
      "outputs": [
        {
          "output_type": "execute_result",
          "data": {
            "text/plain": [
              "6"
            ]
          },
          "metadata": {
            "tags": []
          },
          "execution_count": 18
        }
      ]
    },
    {
      "cell_type": "code",
      "metadata": {
        "id": "mMrMrMLfVkyL",
        "colab_type": "code",
        "outputId": "e9742ea2-3754-490f-e7c2-fc3932eaa213",
        "colab": {
          "base_uri": "https://localhost:8080/",
          "height": 34
        }
      },
      "source": [
        "y_train[0]"
      ],
      "execution_count": 19,
      "outputs": [
        {
          "output_type": "execute_result",
          "data": {
            "text/plain": [
              "array([0., 0., 0., 0., 0., 0., 1., 0., 0., 0.], dtype=float32)"
            ]
          },
          "metadata": {
            "tags": []
          },
          "execution_count": 19
        }
      ]
    },
    {
      "cell_type": "code",
      "metadata": {
        "id": "63qH8jHFL19Y",
        "colab_type": "code",
        "outputId": "4eef79ff-6347-4670-fe98-0e4a19fdaad0",
        "colab": {
          "base_uri": "https://localhost:8080/",
          "height": 164
        }
      },
      "source": [
        "tf.__version__"
      ],
      "execution_count": 20,
      "outputs": [
        {
          "output_type": "error",
          "ename": "NameError",
          "evalue": "ignored",
          "traceback": [
            "\u001b[0;31m---------------------------------------------------------------------------\u001b[0m",
            "\u001b[0;31mNameError\u001b[0m                                 Traceback (most recent call last)",
            "\u001b[0;32m<ipython-input-20-65996cac02ec>\u001b[0m in \u001b[0;36m<module>\u001b[0;34m()\u001b[0m\n\u001b[0;32m----> 1\u001b[0;31m \u001b[0mtf\u001b[0m\u001b[0;34m.\u001b[0m\u001b[0m__version__\u001b[0m\u001b[0;34m\u001b[0m\u001b[0;34m\u001b[0m\u001b[0m\n\u001b[0m",
            "\u001b[0;31mNameError\u001b[0m: name 'tf' is not defined"
          ]
        }
      ]
    }
  ]
}